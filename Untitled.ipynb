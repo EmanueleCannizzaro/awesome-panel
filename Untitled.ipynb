{
 "cells": [
  {
   "cell_type": "code",
   "execution_count": 1,
   "metadata": {},
   "outputs": [
    {
     "data": {
      "application/vnd.jupyter.widget-view+json": {
       "model_id": "cbda4fb748b84d0093af8dbe713c1bde",
       "version_major": 2,
       "version_minor": 0
      },
      "text/plain": [
       "BokehModel(render_bundle={'docs_json': {'59bd534c-ef71-4905-ba39-4b3e57c4f816': {'roots': {'references': [{'at…"
      ]
     },
     "metadata": {},
     "output_type": "display_data"
    }
   ],
   "source": [
    "import panel as pn\n",
    "panel_obj = pn.pane.Markdown(\"# This is a test\")\n",
    "ipy_objpn.ipywidget(panel_obj)\n",
    "display()"
   ]
  }
 ],
 "metadata": {
  "kernelspec": {
   "display_name": "awesome-panel",
   "language": "python",
   "name": "awesome-panel"
  },
  "language_info": {
   "codemirror_mode": {
    "name": "ipython",
    "version": 3
   },
   "file_extension": ".py",
   "mimetype": "text/x-python",
   "name": "python",
   "nbconvert_exporter": "python",
   "pygments_lexer": "ipython3",
   "version": "3.7.4"
  }
 },
 "nbformat": 4,
 "nbformat_minor": 2
}
